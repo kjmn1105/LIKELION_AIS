{
 "cells": [
  {
   "cell_type": "markdown",
   "id": "39cc1167",
   "metadata": {},
   "source": [
    "# eCommerce behavior data\n",
    "<b>eCommerce behavior data from multi category store</b>\n",
    "* <b>Data Source</b> : [kaggle](https://www.kaggle.com/datasets/mkechinov/ecommerce-behavior-data-from-multi-category-store?select=2019-Oct.csv), [REES46 Marketing Platform](https://rees46.com/)\n",
    "* <b>About</b>: This dataset contains 285 million users' events from eCommerce website\n",
    "* <b>File structure</b> :\n",
    "|Property|Description|\n",
    "|--------|-----------|\n",
    "|event_time|Time when event happened at (in UTC)|\n",
    "|event_type|view, cart, remove_from_cart, purchase|\n",
    "|product_id|ID of a product|\n",
    "|category_id|Product's category ID|\n",
    "|category_code|Product's category taxonomy (code name) if it was possible to make it. Usually present for meaningful categories and skipped for different kinds of accessories.|\n",
    "|brand|Downcased string of brand name. Can be missed.|\n",
    "|price|Float price of a product. Present.|\n",
    "|user_id|Permanent user ID.|\n",
    "|user_session|Temporary user's session ID. Same for each user's session. Is changed every time user come back to online store from a long pause.|"
   ]
  },
  {
   "cell_type": "markdown",
   "id": "3e89c0c2",
   "metadata": {},
   "source": [
    "## 라이브러리 로드"
   ]
  },
  {
   "cell_type": "code",
   "execution_count": 2,
   "id": "f127e200",
   "metadata": {},
   "outputs": [],
   "source": [
    "import pandas as pd\n",
    "import numpy as np\n",
    "from glob import glob\n",
    "import os"
   ]
  },
  {
   "cell_type": "markdown",
   "id": "158c8486",
   "metadata": {},
   "source": [
    "## 데이터 전처리"
   ]
  },
  {
   "cell_type": "markdown",
   "id": "aa24837d",
   "metadata": {},
   "source": [
    "### 데이터 일부만 가져오기\n",
    "* 컬럼별 데이터 타입, 범위(min, max), nunique 확인  \n",
    "* downcast 적용, 범주형 변경 가능한 컬럼 확인"
   ]
  },
  {
   "cell_type": "code",
   "execution_count": 3,
   "id": "c9dc8628",
   "metadata": {},
   "outputs": [],
   "source": [
    "file_path = glob('data/eCommerce_behavior_2019-Oct.csv')[0]\n",
    "sneakpeak = pd.read_csv(file_path, nrows=5000)"
   ]
  },
  {
   "cell_type": "code",
   "execution_count": 83,
   "id": "1cda8a75",
   "metadata": {},
   "outputs": [
    {
     "name": "stdout",
     "output_type": "stream",
     "text": [
      "(5000, 9)\n"
     ]
    },
    {
     "data": {
      "text/html": [
       "<div>\n",
       "<style scoped>\n",
       "    .dataframe tbody tr th:only-of-type {\n",
       "        vertical-align: middle;\n",
       "    }\n",
       "\n",
       "    .dataframe tbody tr th {\n",
       "        vertical-align: top;\n",
       "    }\n",
       "\n",
       "    .dataframe thead th {\n",
       "        text-align: right;\n",
       "    }\n",
       "</style>\n",
       "<table border=\"1\" class=\"dataframe\">\n",
       "  <thead>\n",
       "    <tr style=\"text-align: right;\">\n",
       "      <th></th>\n",
       "      <th>event_time</th>\n",
       "      <th>event_type</th>\n",
       "      <th>product_id</th>\n",
       "      <th>category_id</th>\n",
       "      <th>category_code</th>\n",
       "      <th>brand</th>\n",
       "      <th>price</th>\n",
       "      <th>user_id</th>\n",
       "      <th>user_session</th>\n",
       "    </tr>\n",
       "  </thead>\n",
       "  <tbody>\n",
       "    <tr>\n",
       "      <th>0</th>\n",
       "      <td>2019-10-01 00:00:00 UTC</td>\n",
       "      <td>view</td>\n",
       "      <td>44600062</td>\n",
       "      <td>2103807459595387724</td>\n",
       "      <td>NaN</td>\n",
       "      <td>shiseido</td>\n",
       "      <td>35.79</td>\n",
       "      <td>541312140</td>\n",
       "      <td>72d76fde-8bb3-4e00-8c23-a032dfed738c</td>\n",
       "    </tr>\n",
       "    <tr>\n",
       "      <th>1</th>\n",
       "      <td>2019-10-01 00:00:00 UTC</td>\n",
       "      <td>view</td>\n",
       "      <td>3900821</td>\n",
       "      <td>2053013552326770905</td>\n",
       "      <td>appliances.environment.water_heater</td>\n",
       "      <td>aqua</td>\n",
       "      <td>33.20</td>\n",
       "      <td>554748717</td>\n",
       "      <td>9333dfbd-b87a-4708-9857-6336556b0fcc</td>\n",
       "    </tr>\n",
       "    <tr>\n",
       "      <th>2</th>\n",
       "      <td>2019-10-01 00:00:01 UTC</td>\n",
       "      <td>view</td>\n",
       "      <td>17200506</td>\n",
       "      <td>2053013559792632471</td>\n",
       "      <td>furniture.living_room.sofa</td>\n",
       "      <td>NaN</td>\n",
       "      <td>543.10</td>\n",
       "      <td>519107250</td>\n",
       "      <td>566511c2-e2e3-422b-b695-cf8e6e792ca8</td>\n",
       "    </tr>\n",
       "  </tbody>\n",
       "</table>\n",
       "</div>"
      ],
      "text/plain": [
       "                event_time event_type  product_id          category_id  \\\n",
       "0  2019-10-01 00:00:00 UTC       view    44600062  2103807459595387724   \n",
       "1  2019-10-01 00:00:00 UTC       view     3900821  2053013552326770905   \n",
       "2  2019-10-01 00:00:01 UTC       view    17200506  2053013559792632471   \n",
       "\n",
       "                         category_code     brand   price    user_id  \\\n",
       "0                                  NaN  shiseido   35.79  541312140   \n",
       "1  appliances.environment.water_heater      aqua   33.20  554748717   \n",
       "2           furniture.living_room.sofa       NaN  543.10  519107250   \n",
       "\n",
       "                           user_session  \n",
       "0  72d76fde-8bb3-4e00-8c23-a032dfed738c  \n",
       "1  9333dfbd-b87a-4708-9857-6336556b0fcc  \n",
       "2  566511c2-e2e3-422b-b695-cf8e6e792ca8  "
      ]
     },
     "execution_count": 83,
     "metadata": {},
     "output_type": "execute_result"
    }
   ],
   "source": [
    "print(sneakpeak.shape)\n",
    "sneakpeak.head(3)"
   ]
  },
  {
   "cell_type": "code",
   "execution_count": 84,
   "id": "09e64f32",
   "metadata": {},
   "outputs": [
    {
     "name": "stdout",
     "output_type": "stream",
     "text": [
      "<class 'pandas.core.frame.DataFrame'>\n",
      "RangeIndex: 5000 entries, 0 to 4999\n",
      "Data columns (total 9 columns):\n",
      " #   Column         Non-Null Count  Dtype  \n",
      "---  ------         --------------  -----  \n",
      " 0   event_time     5000 non-null   object \n",
      " 1   event_type     5000 non-null   object \n",
      " 2   product_id     5000 non-null   int64  \n",
      " 3   category_id    5000 non-null   int64  \n",
      " 4   category_code  3431 non-null   object \n",
      " 5   brand          4373 non-null   object \n",
      " 6   price          5000 non-null   float64\n",
      " 7   user_id        5000 non-null   int64  \n",
      " 8   user_session   5000 non-null   object \n",
      "dtypes: float64(1), int64(3), object(5)\n",
      "memory usage: 351.7+ KB\n"
     ]
    }
   ],
   "source": [
    "sneakpeak.info()"
   ]
  },
  {
   "cell_type": "code",
   "execution_count": 85,
   "id": "c141d933",
   "metadata": {},
   "outputs": [
    {
     "data": {
      "text/html": [
       "<div>\n",
       "<style scoped>\n",
       "    .dataframe tbody tr th:only-of-type {\n",
       "        vertical-align: middle;\n",
       "    }\n",
       "\n",
       "    .dataframe tbody tr th {\n",
       "        vertical-align: top;\n",
       "    }\n",
       "\n",
       "    .dataframe thead th {\n",
       "        text-align: right;\n",
       "    }\n",
       "</style>\n",
       "<table border=\"1\" class=\"dataframe\">\n",
       "  <thead>\n",
       "    <tr style=\"text-align: right;\">\n",
       "      <th></th>\n",
       "      <th>product_id</th>\n",
       "      <th>category_id</th>\n",
       "      <th>price</th>\n",
       "      <th>user_id</th>\n",
       "    </tr>\n",
       "  </thead>\n",
       "  <tbody>\n",
       "    <tr>\n",
       "      <th>count</th>\n",
       "      <td>5.000000e+03</td>\n",
       "      <td>5.000000e+03</td>\n",
       "      <td>5000.000000</td>\n",
       "      <td>5.000000e+03</td>\n",
       "    </tr>\n",
       "    <tr>\n",
       "      <th>mean</th>\n",
       "      <td>9.959173e+06</td>\n",
       "      <td>2.055759e+18</td>\n",
       "      <td>310.726740</td>\n",
       "      <td>5.317238e+08</td>\n",
       "    </tr>\n",
       "    <tr>\n",
       "      <th>std</th>\n",
       "      <td>1.107719e+07</td>\n",
       "      <td>1.413163e+16</td>\n",
       "      <td>378.855998</td>\n",
       "      <td>1.747063e+07</td>\n",
       "    </tr>\n",
       "    <tr>\n",
       "      <th>min</th>\n",
       "      <td>1.002099e+06</td>\n",
       "      <td>2.053014e+18</td>\n",
       "      <td>0.000000</td>\n",
       "      <td>3.064418e+08</td>\n",
       "    </tr>\n",
       "    <tr>\n",
       "      <th>25%</th>\n",
       "      <td>1.005067e+06</td>\n",
       "      <td>2.053014e+18</td>\n",
       "      <td>65.120000</td>\n",
       "      <td>5.155540e+08</td>\n",
       "    </tr>\n",
       "    <tr>\n",
       "      <th>50%</th>\n",
       "      <td>4.804056e+06</td>\n",
       "      <td>2.053014e+18</td>\n",
       "      <td>166.145000</td>\n",
       "      <td>5.293785e+08</td>\n",
       "    </tr>\n",
       "    <tr>\n",
       "      <th>75%</th>\n",
       "      <td>1.580004e+07</td>\n",
       "      <td>2.053014e+18</td>\n",
       "      <td>385.827500</td>\n",
       "      <td>5.486073e+08</td>\n",
       "    </tr>\n",
       "    <tr>\n",
       "      <th>max</th>\n",
       "      <td>5.300000e+07</td>\n",
       "      <td>2.172371e+18</td>\n",
       "      <td>2574.070000</td>\n",
       "      <td>5.554633e+08</td>\n",
       "    </tr>\n",
       "  </tbody>\n",
       "</table>\n",
       "</div>"
      ],
      "text/plain": [
       "         product_id   category_id        price       user_id\n",
       "count  5.000000e+03  5.000000e+03  5000.000000  5.000000e+03\n",
       "mean   9.959173e+06  2.055759e+18   310.726740  5.317238e+08\n",
       "std    1.107719e+07  1.413163e+16   378.855998  1.747063e+07\n",
       "min    1.002099e+06  2.053014e+18     0.000000  3.064418e+08\n",
       "25%    1.005067e+06  2.053014e+18    65.120000  5.155540e+08\n",
       "50%    4.804056e+06  2.053014e+18   166.145000  5.293785e+08\n",
       "75%    1.580004e+07  2.053014e+18   385.827500  5.486073e+08\n",
       "max    5.300000e+07  2.172371e+18  2574.070000  5.554633e+08"
      ]
     },
     "execution_count": 85,
     "metadata": {},
     "output_type": "execute_result"
    }
   ],
   "source": [
    "# 수치형 컬럼 min, max 확인 > price 컬럼 unsigned로 변환 가능\n",
    "sneakpeak.describe()"
   ]
  },
  {
   "cell_type": "code",
   "execution_count": 86,
   "id": "ad2c1e69",
   "metadata": {},
   "outputs": [
    {
     "data": {
      "text/html": [
       "<div>\n",
       "<style scoped>\n",
       "    .dataframe tbody tr th:only-of-type {\n",
       "        vertical-align: middle;\n",
       "    }\n",
       "\n",
       "    .dataframe tbody tr th {\n",
       "        vertical-align: top;\n",
       "    }\n",
       "\n",
       "    .dataframe thead th {\n",
       "        text-align: right;\n",
       "    }\n",
       "</style>\n",
       "<table border=\"1\" class=\"dataframe\">\n",
       "  <thead>\n",
       "    <tr style=\"text-align: right;\">\n",
       "      <th></th>\n",
       "      <th>event_time</th>\n",
       "      <th>event_type</th>\n",
       "      <th>category_code</th>\n",
       "      <th>brand</th>\n",
       "      <th>user_session</th>\n",
       "    </tr>\n",
       "  </thead>\n",
       "  <tbody>\n",
       "    <tr>\n",
       "      <th>count</th>\n",
       "      <td>5000</td>\n",
       "      <td>5000</td>\n",
       "      <td>3431</td>\n",
       "      <td>4373</td>\n",
       "      <td>5000</td>\n",
       "    </tr>\n",
       "    <tr>\n",
       "      <th>unique</th>\n",
       "      <td>1540</td>\n",
       "      <td>3</td>\n",
       "      <td>93</td>\n",
       "      <td>465</td>\n",
       "      <td>1898</td>\n",
       "    </tr>\n",
       "    <tr>\n",
       "      <th>top</th>\n",
       "      <td>2019-10-01 02:27:05 UTC</td>\n",
       "      <td>view</td>\n",
       "      <td>electronics.smartphone</td>\n",
       "      <td>samsung</td>\n",
       "      <td>f13c75a5-7f6e-4467-a4e2-c1386c05b007</td>\n",
       "    </tr>\n",
       "    <tr>\n",
       "      <th>freq</th>\n",
       "      <td>16</td>\n",
       "      <td>4896</td>\n",
       "      <td>1568</td>\n",
       "      <td>680</td>\n",
       "      <td>24</td>\n",
       "    </tr>\n",
       "  </tbody>\n",
       "</table>\n",
       "</div>"
      ],
      "text/plain": [
       "                     event_time event_type           category_code    brand  \\\n",
       "count                      5000       5000                    3431     4373   \n",
       "unique                     1540          3                      93      465   \n",
       "top     2019-10-01 02:27:05 UTC       view  electronics.smartphone  samsung   \n",
       "freq                         16       4896                    1568      680   \n",
       "\n",
       "                                user_session  \n",
       "count                                   5000  \n",
       "unique                                  1898  \n",
       "top     f13c75a5-7f6e-4467-a4e2-c1386c05b007  \n",
       "freq                                      24  "
      ]
     },
     "execution_count": 86,
     "metadata": {},
     "output_type": "execute_result"
    }
   ],
   "source": [
    "# object 컬럼 nunique값 확인 > category로 변환 가능할 컬럼 확인\n",
    "sneakpeak.describe(include='O')"
   ]
  },
  {
   "cell_type": "code",
   "execution_count": 87,
   "id": "2d9257a8",
   "metadata": {},
   "outputs": [
    {
     "name": "stdout",
     "output_type": "stream",
     "text": [
      "user_id : 1747,\n",
      "product_id : 2305,\n",
      "category_id : 304\n"
     ]
    }
   ],
   "source": [
    "# 수치형으로 되어있지만 범주형으로 바꿔도 될 것 같은 컬럼 nunique값 확인\n",
    "print(f\"\"\"user_id : {sneakpeak['user_id'].nunique()},\n",
    "product_id : {sneakpeak['product_id'].nunique()},\n",
    "category_id : {sneakpeak['category_id'].nunique()}\"\"\")"
   ]
  },
  {
   "cell_type": "markdown",
   "id": "993d2527",
   "metadata": {},
   "source": [
    "### downcast 적용 (데이터 일부에만 적용해보기)\n",
    "\n",
    "1. 범주형으로 변경\n",
    "* event_type : object > categorial\n",
    "* category_code : object > categorial\n",
    "* category_id : int64 > categorial\n",
    "* brand : object> categorial  \n",
    "* user_id : int64 > categorial\n",
    "\n",
    "2. 수치형 downcast\n",
    "* product_id : int64 > unsigned int32\n",
    "* price : float64 > unsigned\n",
    "\n",
    "3. 변경 안함\n",
    "* user_session : object"
   ]
  },
  {
   "cell_type": "code",
   "execution_count": 13,
   "id": "63ba4e7d",
   "metadata": {},
   "outputs": [],
   "source": [
    "def downcast_dataframe(df) :\n",
    "    \"\"\"\n",
    "    return : df를 받으면 컬럼별로 범주형으로 변환 혹은 downcast된 df를 리턴\n",
    "    pirnt : 얼만큼의 memory_usage가 감소했는지 출력\n",
    "    \"\"\"\n",
    "    # 기존 메모리 사용량 변수로 저장\n",
    "    memory_usage1 = df.memory_usage().sum()\n",
    "\n",
    "    for col in df.columns : \n",
    "        # downcast 적용\n",
    "        df['event_time'] = pd.to_datetime(df['event_time']) # datetime64[ns]으로 변경\n",
    "        df['price'] = pd.to_numeric(df['price'], downcast='float') # float32로 변경\n",
    "        df['product_id'] = pd.to_numeric(df['product_id'], downcast='unsigned') # uint32로 변경\n",
    "\n",
    "        # category 변경\n",
    "        df['user_id'] = df['user_id'].astype('category')\n",
    "        df['category_id'] = df['category_id'].astype('category')\n",
    "        df['category_code'] = df['category_code'].astype('category')\n",
    "        df['brand'] = df['brand'].astype('category')\n",
    "        df['user_session'] = df['user_session'].astype('category')\n",
    "    \n",
    "    # 줄어든 메모리 사용량 변수로 저장 > 절약된 수치 출력\n",
    "    memory_usage2 = df.memory_usage().sum()\n",
    "    print(f\"{round((memory_usage1-memory_usage2) / memory_usage1, 2)*100}% memory saved\")\n",
    "\n",
    "    return df"
   ]
  },
  {
   "cell_type": "code",
   "execution_count": 118,
   "id": "09aa795e",
   "metadata": {},
   "outputs": [
    {
     "name": "stdout",
     "output_type": "stream",
     "text": [
      "19.0% memory saved\n"
     ]
    }
   ],
   "source": [
    "sneakpeak = downcast_dataframe(sneakpeak)"
   ]
  },
  {
   "cell_type": "code",
   "execution_count": 119,
   "id": "9e0f8a16",
   "metadata": {},
   "outputs": [
    {
     "name": "stdout",
     "output_type": "stream",
     "text": [
      "<class 'pandas.core.frame.DataFrame'>\n",
      "RangeIndex: 5000 entries, 0 to 4999\n",
      "Data columns (total 9 columns):\n",
      " #   Column         Non-Null Count  Dtype              \n",
      "---  ------         --------------  -----              \n",
      " 0   event_time     5000 non-null   datetime64[ns, UTC]\n",
      " 1   event_type     5000 non-null   object             \n",
      " 2   product_id     5000 non-null   uint32             \n",
      " 3   category_id    5000 non-null   category           \n",
      " 4   category_code  3431 non-null   category           \n",
      " 5   brand          4373 non-null   category           \n",
      " 6   price          5000 non-null   float32            \n",
      " 7   user_id        5000 non-null   uint32             \n",
      " 8   user_session   5000 non-null   category           \n",
      "dtypes: category(4), datetime64[ns, UTC](1), float32(1), object(1), uint32(2)\n",
      "memory usage: 283.4+ KB\n"
     ]
    }
   ],
   "source": [
    "sneakpeak.info()"
   ]
  },
  {
   "cell_type": "markdown",
   "id": "05a11fbf",
   "metadata": {},
   "source": [
    "### 전체 csv 파일 로드"
   ]
  },
  {
   "cell_type": "code",
   "execution_count": 4,
   "id": "96cd6285",
   "metadata": {},
   "outputs": [],
   "source": [
    "csv_path_oct = 'data/eCommerce_behavior_2019-Oct.csv'\n",
    "csv_path_nov = 'data/eCommerce_behavior_2019-Nov.csv'"
   ]
  },
  {
   "cell_type": "code",
   "execution_count": 121,
   "id": "df8b0e89",
   "metadata": {},
   "outputs": [],
   "source": [
    "df_oct = pd.read_csv(glob(csv_path_oct)[0])\n",
    "df_nov = pd.read_csv(glob(csv_path_nov)[0])"
   ]
  },
  {
   "cell_type": "code",
   "execution_count": 122,
   "id": "168a9d21",
   "metadata": {},
   "outputs": [],
   "source": [
    "df = pd.concat([df_oct, df_nov])"
   ]
  },
  {
   "cell_type": "code",
   "execution_count": 123,
   "id": "68922203",
   "metadata": {},
   "outputs": [
    {
     "name": "stdout",
     "output_type": "stream",
     "text": [
      "<class 'pandas.core.frame.DataFrame'>\n",
      "Int64Index: 109950743 entries, 0 to 67501978\n",
      "Data columns (total 9 columns):\n",
      " #   Column         Dtype  \n",
      "---  ------         -----  \n",
      " 0   event_time     object \n",
      " 1   event_type     object \n",
      " 2   product_id     int64  \n",
      " 3   category_id    int64  \n",
      " 4   category_code  object \n",
      " 5   brand          object \n",
      " 6   price          float64\n",
      " 7   user_id        int64  \n",
      " 8   user_session   object \n",
      "dtypes: float64(1), int64(3), object(5)\n",
      "memory usage: 8.2+ GB\n",
      "None\n"
     ]
    },
    {
     "data": {
      "text/plain": [
       "(109950743, 9)"
      ]
     },
     "execution_count": 123,
     "metadata": {},
     "output_type": "execute_result"
    }
   ],
   "source": [
    "print(df.info())\n",
    "df.shape"
   ]
  },
  {
   "cell_type": "markdown",
   "id": "9a1818de",
   "metadata": {},
   "source": [
    "### downcast 적용 (전체 csv파일에 적용)"
   ]
  },
  {
   "cell_type": "code",
   "execution_count": 125,
   "id": "b636e0c4",
   "metadata": {},
   "outputs": [
    {
     "name": "stdout",
     "output_type": "stream",
     "text": [
      "37.0% memory saved\n",
      "34.0% memory saved\n"
     ]
    }
   ],
   "source": [
    "df_1 = downcast_dataframe(df_oct)\n",
    "df_2 = downcast_dataframe(df_nov)"
   ]
  },
  {
   "cell_type": "code",
   "execution_count": 126,
   "id": "8259f929",
   "metadata": {},
   "outputs": [
    {
     "name": "stdout",
     "output_type": "stream",
     "text": [
      "<class 'pandas.core.frame.DataFrame'>\n",
      "Int64Index: 109950743 entries, 0 to 67501978\n",
      "Data columns (total 9 columns):\n",
      " #   Column         Dtype              \n",
      "---  ------         -----              \n",
      " 0   event_time     datetime64[ns, UTC]\n",
      " 1   event_type     object             \n",
      " 2   product_id     uint32             \n",
      " 3   category_id    int64              \n",
      " 4   category_code  object             \n",
      " 5   brand          object             \n",
      " 6   price          float32            \n",
      " 7   user_id        uint32             \n",
      " 8   user_session   object             \n",
      "dtypes: datetime64[ns, UTC](1), float32(1), int64(1), object(4), uint32(2)\n",
      "memory usage: 7.0+ GB\n"
     ]
    }
   ],
   "source": [
    "df = pd.concat([df_1, df_2])\n",
    "df.info()"
   ]
  },
  {
   "cell_type": "markdown",
   "id": "b0881b0f",
   "metadata": {},
   "source": [
    "### parquet 으로 저장"
   ]
  },
  {
   "cell_type": "code",
   "execution_count": null,
   "id": "34ed8d1a",
   "metadata": {},
   "outputs": [],
   "source": [
    "parquet_path = csv_path_oct[:-7] + 'parquet'\n",
    "df.to_parquet(parquet_path, compression='gzip')"
   ]
  },
  {
   "cell_type": "code",
   "execution_count": 6,
   "id": "4b099ad9",
   "metadata": {},
   "outputs": [
    {
     "name": "stdout",
     "output_type": "stream",
     "text": [
      "<class 'pandas.core.frame.DataFrame'>\n",
      "Int64Index: 109950743 entries, 0 to 67501978\n",
      "Data columns (total 9 columns):\n",
      " #   Column         Dtype              \n",
      "---  ------         -----              \n",
      " 0   event_time     datetime64[ns, UTC]\n",
      " 1   event_type     object             \n",
      " 2   product_id     int64              \n",
      " 3   category_id    int64              \n",
      " 4   category_code  object             \n",
      " 5   brand          object             \n",
      " 6   price          float32            \n",
      " 7   user_id        int64              \n",
      " 8   user_session   object             \n",
      "dtypes: datetime64[ns, UTC](1), float32(1), int64(3), object(4)\n",
      "memory usage: 7.8+ GB\n"
     ]
    }
   ],
   "source": [
    "df = pd.read_parquet(parquet_path)"
   ]
  },
  {
   "cell_type": "code",
   "execution_count": 14,
   "id": "4a083985",
   "metadata": {},
   "outputs": [
    {
     "name": "stdout",
     "output_type": "stream",
     "text": [
      "-3.0% memory saved\n",
      "<class 'pandas.core.frame.DataFrame'>\n",
      "Int64Index: 109950743 entries, 0 to 67501978\n",
      "Data columns (total 9 columns):\n",
      " #   Column         Dtype              \n",
      "---  ------         -----              \n",
      " 0   event_time     datetime64[ns, UTC]\n",
      " 1   event_type     object             \n",
      " 2   product_id     uint32             \n",
      " 3   category_id    category           \n",
      " 4   category_code  category           \n",
      " 5   brand          category           \n",
      " 6   price          float32            \n",
      " 7   user_id        category           \n",
      " 8   user_session   category           \n",
      "dtypes: category(5), datetime64[ns, UTC](1), float32(1), object(1), uint32(1)\n",
      "memory usage: 5.6+ GB\n"
     ]
    }
   ],
   "source": [
    "df = downcast_dataframe(df)\n",
    "df.info()"
   ]
  }
 ],
 "metadata": {
  "kernelspec": {
   "display_name": "Python 3 (ipykernel)",
   "language": "python",
   "name": "python3"
  },
  "language_info": {
   "codemirror_mode": {
    "name": "ipython",
    "version": 3
   },
   "file_extension": ".py",
   "mimetype": "text/x-python",
   "name": "python",
   "nbconvert_exporter": "python",
   "pygments_lexer": "ipython3",
   "version": "3.9.13"
  },
  "toc": {
   "base_numbering": 1,
   "nav_menu": {},
   "number_sections": true,
   "sideBar": true,
   "skip_h1_title": false,
   "title_cell": "Table of Contents",
   "title_sidebar": "Contents",
   "toc_cell": false,
   "toc_position": {},
   "toc_section_display": true,
   "toc_window_display": false
  },
  "varInspector": {
   "cols": {
    "lenName": 16,
    "lenType": 16,
    "lenVar": 40
   },
   "kernels_config": {
    "python": {
     "delete_cmd_postfix": "",
     "delete_cmd_prefix": "del ",
     "library": "var_list.py",
     "varRefreshCmd": "print(var_dic_list())"
    },
    "r": {
     "delete_cmd_postfix": ") ",
     "delete_cmd_prefix": "rm(",
     "library": "var_list.r",
     "varRefreshCmd": "cat(var_dic_list()) "
    }
   },
   "types_to_exclude": [
    "module",
    "function",
    "builtin_function_or_method",
    "instance",
    "_Feature"
   ],
   "window_display": false
  }
 },
 "nbformat": 4,
 "nbformat_minor": 5
}
